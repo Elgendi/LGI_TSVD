{
 "cells": [
  {
   "cell_type": "code",
   "execution_count": 1,
   "id": "53096213-7ed7-4f0f-a86d-6dac219f2323",
   "metadata": {},
   "outputs": [
    {
     "name": "stdout",
     "output_type": "stream",
     "text": [
      "C:\\Users\\lucat\\Anaconda3\\envs\\pyVHR\\notebooks\n"
     ]
    }
   ],
   "source": [
    "# -- MAIN IMPORT\n",
    "\n",
    "import sys\n",
    "print(sys.path[0])\n",
    "\n",
    "\n",
    "import pyVHR as vhr\n",
    "import numpy as np\n",
    "import pandas as pd\n",
    "import matplotlib.pyplot as plt \n",
    "import scipy\n",
    "import warnings\n",
    "\n",
    "from pyVHR.plot.visualize import *\n",
    "from pyVHR.utils.errors import getErrors, printErrors, displayErrors\n",
    "from pyVHR.analysis.pipeline import Pipeline\n",
    "\n",
    "import big_o\n",
    "\n",
    "\n",
    "import time"
   ]
  },
  {
   "cell_type": "code",
   "execution_count": 2,
   "id": "fd4a1726-6a69-4f50-9959-c215e51ba944",
   "metadata": {},
   "outputs": [
    {
     "name": "stdout",
     "output_type": "stream",
     "text": [
      "0 /Users/lucat/Anaconda3/envs/pyVHR/pyVHR/datasets/UBFC_Phys/vid_s1_T1_cut.mp4\n"
     ]
    }
   ],
   "source": [
    "# -- LOAD A DATASET\n",
    "\n",
    "dataset_name = 'UBFC_PHYS'               # the name of the python class handling it \n",
    "video_DIR = '/Users/lucat/Anaconda3/envs/pyVHR/pyVHR/datasets/UBFC_Phys/'  # dir containing videos\n",
    "BVP_DIR = '/Users/lucat/Anaconda3/envs/pyVHR/pyVHR/datasets/UBFC_Phys/'    # dir containing BVPs GT\n",
    "\n",
    "dataset = vhr.datasets.datasetFactory(dataset_name, videodataDIR=video_DIR, BVPdataDIR=BVP_DIR, path = 'C:/Users/lucat/Anaconda3/envs/pyVHR/pyVHR/datasets/')\n",
    "allvideo = dataset.videoFilenames\n",
    "\n",
    "# print the list of video names with the progressive index (idx)\n",
    "for v in range(len(allvideo)):\n",
    "  print(v, allvideo[v])"
   ]
  },
  {
   "cell_type": "code",
   "execution_count": 3,
   "id": "0db3c798-0e96-42f6-80ba-d2316a834afe",
   "metadata": {},
   "outputs": [
    {
     "name": "stdout",
     "output_type": "stream",
     "text": [
      "Video processed name:  /Users/lucat/Anaconda3/envs/pyVHR/pyVHR/datasets/UBFC_Phys/vid_s1_T1_cut.mp4\n"
     ]
    }
   ],
   "source": [
    "# params\n",
    "video_idx = 0\n",
    "videoFileName = dataset.getVideoFilename(video_idx)\n",
    "print('Video processed name: ', videoFileName)\n",
    "\n",
    "wsize = 10                 # window size in seconds\n",
    "roi_approach = 'patches'   # 'holistic' or 'patches'\n",
    "bpm_est = 'clustering'     # BPM final estimate, if patches choose 'medians' or 'clustering'\n",
    "method = 'cpu_CHROM'         # one of the methods implemented in pyVHR"
   ]
  },
  {
   "cell_type": "code",
   "execution_count": 5,
   "id": "fb4030c0-a5a7-4210-abd0-b8bce3b0be4f",
   "metadata": {},
   "outputs": [],
   "source": [
    "pipe = Pipeline()  \n",
    "\n",
    "k = pipe.luca"
   ]
  },
  {
   "cell_type": "code",
   "execution_count": 6,
   "id": "67fc6374-b7c1-4944-a32e-208ae1226ebb",
   "metadata": {},
   "outputs": [
    {
     "name": "stdout",
     "output_type": "stream",
     "text": [
      "\n",
      "Processing Video: /Users/lucat/Anaconda3/envs/pyVHR/pyVHR/datasets/UBFC_Phys/vid_s1_T1_cut.mp4\n"
     ]
    },
    {
     "ename": "UnboundLocalError",
     "evalue": "local variable 'bvps' referenced before assignment",
     "output_type": "error",
     "traceback": [
      "\u001b[1;31m---------------------------------------------------------------------------\u001b[0m",
      "\u001b[1;31mUnboundLocalError\u001b[0m                         Traceback (most recent call last)",
      "\u001b[1;32m~\\AppData\\Local\\Temp\\ipykernel_7864\\2167650921.py\u001b[0m in \u001b[0;36m<module>\u001b[1;34m\u001b[0m\n\u001b[0;32m     15\u001b[0m '''\n\u001b[0;32m     16\u001b[0m \u001b[1;33m\u001b[0m\u001b[0m\n\u001b[1;32m---> 17\u001b[1;33m timesES, median_bpmES, mad_bpmES = pipe.run_on_video(videoFileName, \n\u001b[0m\u001b[0;32m     18\u001b[0m                                         \u001b[0mcuda\u001b[0m\u001b[1;33m=\u001b[0m\u001b[1;32mFalse\u001b[0m\u001b[1;33m,\u001b[0m\u001b[1;33m\u001b[0m\u001b[1;33m\u001b[0m\u001b[0m\n\u001b[0;32m     19\u001b[0m                                         \u001b[0mroi_method\u001b[0m\u001b[1;33m=\u001b[0m\u001b[1;34m'convexhull'\u001b[0m\u001b[1;33m,\u001b[0m\u001b[1;33m\u001b[0m\u001b[1;33m\u001b[0m\u001b[0m\n",
      "\u001b[1;32m~\\Anaconda3\\envs\\pyVHR\\pyVHR\\analysis\\pipeline.py\u001b[0m in \u001b[0;36mrun_on_video\u001b[1;34m(self, videoFileName, cuda, roi_method, roi_approach, method, bpm_type, pre_filt, post_filt, verb)\u001b[0m\n\u001b[0;32m    132\u001b[0m             \u001b[0mmodule\u001b[0m \u001b[1;33m=\u001b[0m \u001b[0mimport_module\u001b[0m\u001b[1;33m(\u001b[0m\u001b[1;34m'pyVHR.BVP.filters'\u001b[0m\u001b[1;33m)\u001b[0m\u001b[1;33m\u001b[0m\u001b[1;33m\u001b[0m\u001b[0m\n\u001b[0;32m    133\u001b[0m             \u001b[0mmethod_to_call\u001b[0m \u001b[1;33m=\u001b[0m \u001b[0mgetattr\u001b[0m\u001b[1;33m(\u001b[0m\u001b[0mmodule\u001b[0m\u001b[1;33m,\u001b[0m \u001b[1;34m'BPfilter'\u001b[0m\u001b[1;33m)\u001b[0m\u001b[1;33m\u001b[0m\u001b[1;33m\u001b[0m\u001b[0m\n\u001b[1;32m--> 134\u001b[1;33m             bvps = apply_filter(bvps, \n\u001b[0m\u001b[0;32m    135\u001b[0m                                 \u001b[0mmethod_to_call\u001b[0m\u001b[1;33m,\u001b[0m\u001b[1;33m\u001b[0m\u001b[1;33m\u001b[0m\u001b[0m\n\u001b[0;32m    136\u001b[0m                                 \u001b[0mfps\u001b[0m\u001b[1;33m=\u001b[0m\u001b[0mfps\u001b[0m\u001b[1;33m,\u001b[0m\u001b[1;33m\u001b[0m\u001b[1;33m\u001b[0m\u001b[0m\n",
      "\u001b[1;31mUnboundLocalError\u001b[0m: local variable 'bvps' referenced before assignment"
     ]
    }
   ],
   "source": [
    "'''\n",
    "bvps, timesES, bpmES = pipe.run_on_video(videoFileName,\n",
    "                                        winsize=wsize, \n",
    "                                        roi_method='convexhull',\n",
    "                                        roi_approach=roi_approach,\n",
    "                                        method=method,\n",
    "                                        estimate=bpm_est,\n",
    "                                        patch_size=0, \n",
    "                                        RGB_LOW_HIGH_TH=(5,230),\n",
    "                                        Skin_LOW_HIGH_TH=(5,230),\n",
    "                                        pre_filt=True,\n",
    "                                        post_filt=True,\n",
    "                                        cuda=True, \n",
    "                                        verb=True)\n",
    "'''\n",
    "\n",
    "timesES, median_bpmES, mad_bpmES = pipe.run_on_video(videoFileName, \n",
    "                                        cuda=False, \n",
    "                                        roi_method='convexhull', \n",
    "                                        roi_approach=roi_approach, \n",
    "                                        method=method, \n",
    "                                        bpm_type='welch', \n",
    "                                        pre_filt=True, \n",
    "                                        post_filt=True, \n",
    "                                        verb=True)"
   ]
  },
  {
   "cell_type": "code",
   "execution_count": 11,
   "id": "2101a297-050c-4d1f-a5b7-0975560bddfb",
   "metadata": {},
   "outputs": [
    {
     "name": "stdout",
     "output_type": "stream",
     "text": [
      "\n",
      "Processing Video: /Users/lucat/pyVHR-master/pyVHR/datasets/UBFC_Phys/vid_s1_T1_extreme_cut.mp4\n",
      "\n",
      "BVP extraction with method: cpu_CHROM\n",
      "\n",
      "BPM estimation with: welch\n",
      "\n",
      "...done!\n",
      "\n",
      "The CPU execution time of the pipeline is  10.029718160629272  seconds\n"
     ]
    }
   ],
   "source": [
    "# run\n",
    "start_time = time.time()\n",
    "\n",
    "pipe = Pipeline()          # object to execute the pipeline\n",
    "bvps, timesES, bpmES = pipe.run_on_video(videoFileName,\n",
    "                                        roi_method='convexhull',\n",
    "                                        roi_approach=roi_approach,\n",
    "                                        method=method,\n",
    "                                        pre_filt=True,\n",
    "                                        post_filt=True,\n",
    "                                        cuda=False, \n",
    "                                        verb=True)\n",
    "end_time = time.time()\n",
    "print('The CPU execution time of the pipeline is ', end_time-start_time, ' seconds')"
   ]
  },
  {
   "cell_type": "code",
   "execution_count": 13,
   "id": "01831825",
   "metadata": {},
   "outputs": [
    {
     "ename": "AttributeError",
     "evalue": "'Pipeline' object has no attribute 'luca'",
     "output_type": "error",
     "traceback": [
      "\u001b[1;31m---------------------------------------------------------------------------\u001b[0m",
      "\u001b[1;31mAttributeError\u001b[0m                            Traceback (most recent call last)",
      "\u001b[1;32m~\\AppData\\Local\\Temp\\ipykernel_2708\\468266269.py\u001b[0m in \u001b[0;36m<module>\u001b[1;34m\u001b[0m\n\u001b[1;32m----> 1\u001b[1;33m \u001b[0mkk\u001b[0m \u001b[1;33m=\u001b[0m \u001b[0mpipe\u001b[0m\u001b[1;33m.\u001b[0m\u001b[0mluca\u001b[0m\u001b[1;33m(\u001b[0m\u001b[1;33m)\u001b[0m\u001b[1;33m\u001b[0m\u001b[1;33m\u001b[0m\u001b[0m\n\u001b[0m",
      "\u001b[1;31mAttributeError\u001b[0m: 'Pipeline' object has no attribute 'luca'"
     ]
    }
   ],
   "source": [
    "kk = pipe.luca()"
   ]
  },
  {
   "cell_type": "code",
   "execution_count": 11,
   "id": "2712136a",
   "metadata": {},
   "outputs": [],
   "source": [
    "def measure_complexity(video_file, roi_method='convexhull', roi_approach=None,\n",
    "                       method=None, pre_filt=False, post_filt=True, cuda=False, verb=True):\n",
    "                       \n",
    "    bvps, timesES, bpmES = pipe.run_on_video(video_file,\n",
    "                                        roi_method=roi_method,\n",
    "                                        roi_approach=roi_approach,\n",
    "                                        method=method,\n",
    "                                        pre_filt=pre_filt,\n",
    "                                        post_filt=post_filt,\n",
    "                                        cuda=cuda, \n",
    "                                        verb=verb)\n",
    "    # You can choose any output variable to return, or return a combination of them\n",
    "    return bvps"
   ]
  },
  {
   "cell_type": "code",
   "execution_count": 52,
   "id": "196a9d9f",
   "metadata": {},
   "outputs": [],
   "source": [
    "def find_max(x):\n",
    "...     \"\"\"Find the maximum element in a list of positive integers.\"\"\"\n",
    "...     max_ = 0\n",
    "...     for el in x:\n",
    "...         if el > max_:\n",
    "...             max_ = el\n",
    "...     return max_"
   ]
  },
  {
   "cell_type": "code",
   "execution_count": 54,
   "id": "c35118eb",
   "metadata": {},
   "outputs": [
    {
     "name": "stdout",
     "output_type": "stream",
     "text": [
      "Linear: time = 0.0085 + 2.5E-06*n (sec)\n"
     ]
    }
   ],
   "source": [
    "positive_int_generator = lambda n: big_o.datagen.integers(n, 0, 10000)\n",
    "best, others = big_o.big_o(find_max, positive_int_generator, n_repeats=100)\n",
    "print(best)"
   ]
  },
  {
   "cell_type": "code",
   "execution_count": null,
   "id": "5ade4275-7f85-4dbe-80f0-f2ba928a9366",
   "metadata": {},
   "outputs": [
    {
     "name": "stdout",
     "output_type": "stream",
     "text": [
      "[ 3.  4.  5.  6.  7.  8.  9. 10. 11. 12. 13. 14. 15. 16.]\n"
     ]
    }
   ],
   "source": [
    "print(bvps)"
   ]
  },
  {
   "cell_type": "code",
   "execution_count": null,
   "id": "58cb1362-a73a-481e-9a4f-6087315d22d5",
   "metadata": {},
   "outputs": [
    {
     "ename": "TypeError",
     "evalue": "getErrors() takes 4 positional arguments but 6 were given",
     "output_type": "error",
     "traceback": [
      "\u001b[1;31m---------------------------------------------------------------------------\u001b[0m",
      "\u001b[1;31mTypeError\u001b[0m                                 Traceback (most recent call last)",
      "\u001b[1;32m~\\AppData\\Local\\Temp\\ipykernel_18956\\2644217063.py\u001b[0m in \u001b[0;36m<module>\u001b[1;34m\u001b[0m\n\u001b[0;32m      5\u001b[0m \u001b[1;33m\u001b[0m\u001b[0m\n\u001b[0;32m      6\u001b[0m \u001b[1;33m\u001b[0m\u001b[0m\n\u001b[1;32m----> 7\u001b[1;33m \u001b[0mRMSE\u001b[0m\u001b[1;33m,\u001b[0m \u001b[0mMAE\u001b[0m\u001b[1;33m,\u001b[0m \u001b[0mMAX\u001b[0m\u001b[1;33m,\u001b[0m \u001b[0mPCC\u001b[0m\u001b[1;33m,\u001b[0m \u001b[0mCCC\u001b[0m\u001b[1;33m,\u001b[0m \u001b[0mSNR\u001b[0m \u001b[1;33m=\u001b[0m \u001b[0mgetErrors\u001b[0m\u001b[1;33m(\u001b[0m\u001b[0mbvps\u001b[0m\u001b[1;33m,\u001b[0m \u001b[0mfps\u001b[0m\u001b[1;33m,\u001b[0m \u001b[0mbpmES\u001b[0m\u001b[1;33m,\u001b[0m \u001b[0mbpmGT\u001b[0m\u001b[1;33m,\u001b[0m \u001b[0mtimesES\u001b[0m\u001b[1;33m,\u001b[0m \u001b[0mtimesGT\u001b[0m\u001b[1;33m)\u001b[0m\u001b[1;33m\u001b[0m\u001b[1;33m\u001b[0m\u001b[0m\n\u001b[0m\u001b[0;32m      8\u001b[0m \u001b[0mprintErrors\u001b[0m\u001b[1;33m(\u001b[0m\u001b[0mRMSE\u001b[0m\u001b[1;33m,\u001b[0m \u001b[0mMAE\u001b[0m\u001b[1;33m,\u001b[0m \u001b[0mMAX\u001b[0m\u001b[1;33m,\u001b[0m \u001b[0mPCC\u001b[0m\u001b[1;33m,\u001b[0m \u001b[0mCCC\u001b[0m\u001b[1;33m,\u001b[0m \u001b[0mSNR\u001b[0m\u001b[1;33m)\u001b[0m\u001b[1;33m\u001b[0m\u001b[1;33m\u001b[0m\u001b[0m\n\u001b[0;32m      9\u001b[0m \u001b[0mdisplayErrors\u001b[0m\u001b[1;33m(\u001b[0m\u001b[0mbpmES\u001b[0m\u001b[1;33m,\u001b[0m \u001b[0mbpmGT\u001b[0m\u001b[1;33m,\u001b[0m \u001b[0mtimesES\u001b[0m\u001b[1;33m,\u001b[0m \u001b[0mtimesGT\u001b[0m\u001b[1;33m)\u001b[0m\u001b[1;33m\u001b[0m\u001b[1;33m\u001b[0m\u001b[0m\n",
      "\u001b[1;31mTypeError\u001b[0m: getErrors() takes 4 positional arguments but 6 were given"
     ]
    }
   ],
   "source": [
    "# ERRORS\n",
    "fps = 0\n",
    "timesGT = 0\n",
    "bpmGT = 0\n",
    "\n",
    "\n",
    "RMSE, MAE, MAX, PCC, CCC, SNR = getErrors(bvps, fps, bpmES, bpmGT, timesES, timesGT)\n",
    "printErrors(RMSE, MAE, MAX, PCC, CCC, SNR)\n",
    "displayErrors(bpmES, bpmGT, timesES, timesGT)"
   ]
  }
 ],
 "metadata": {
  "kernelspec": {
   "display_name": "Python 3 (ipykernel)",
   "language": "python",
   "name": "python3"
  },
  "language_info": {
   "codemirror_mode": {
    "name": "ipython",
    "version": 3
   },
   "file_extension": ".py",
   "mimetype": "text/x-python",
   "name": "python",
   "nbconvert_exporter": "python",
   "pygments_lexer": "ipython3",
   "version": "3.9.7"
  }
 },
 "nbformat": 4,
 "nbformat_minor": 5
}
